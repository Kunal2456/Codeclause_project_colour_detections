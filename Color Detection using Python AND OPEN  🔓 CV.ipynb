{
 "cells": [
  {
   "cell_type": "markdown",
   "id": "ebbc9d09",
   "metadata": {},
   "source": [
    "#   IMPORTING LIBRARIES "
   ]
  },
  {
   "cell_type": "code",
   "execution_count": 1,
   "id": "08553664",
   "metadata": {},
   "outputs": [],
   "source": [
    "import cv2\n",
    "import numpy as np\n",
    "import pandas as pd\n",
    "\n"
   ]
  },
  {
   "cell_type": "markdown",
   "id": "9e1d9ba2",
   "metadata": {},
   "source": [
    "# Reading Image path"
   ]
  },
  {
   "cell_type": "code",
   "execution_count": 2,
   "id": "c49a629e",
   "metadata": {},
   "outputs": [],
   "source": [
    "img_path =\"K:\\code clause\\color palette (1).jpg\"\n",
    "img = cv2.imread(img_path)\n",
    "img=cv2.resize(img,(700,500))"
   ]
  },
  {
   "cell_type": "markdown",
   "id": "b25e7708",
   "metadata": {},
   "source": [
    "# Assigning Global variables"
   ]
  },
  {
   "cell_type": "code",
   "execution_count": 3,
   "id": "4fa00e54",
   "metadata": {},
   "outputs": [],
   "source": [
    "clicked = False\n",
    "r = g = b = xpos = ypos = 0"
   ]
  },
  {
   "cell_type": "markdown",
   "id": "a002e847",
   "metadata": {},
   "source": [
    "# IMPORTING CSV FILE"
   ]
  },
  {
   "cell_type": "code",
   "execution_count": 4,
   "id": "16fd074b",
   "metadata": {},
   "outputs": [],
   "source": [
    "index=[\"color\",\"color_name\",\"hex\",\"R\",\"G\",\"B\"]\n",
    "csv = pd.read_csv('colors.csv', names=index, header=None)"
   ]
  },
  {
   "cell_type": "markdown",
   "id": "976d1100",
   "metadata": {},
   "source": [
    "# function to calculate minimum distance from all colors and get the most matching color"
   ]
  },
  {
   "cell_type": "code",
   "execution_count": 5,
   "id": "df2f58c0",
   "metadata": {},
   "outputs": [],
   "source": [
    "def getColorName(R,G,B):\n",
    "    minimum = 10000\n",
    "    for i in range(len(csv)):\n",
    "        d = abs(R- int(csv.loc[i,\"R\"])) + abs(G- int(csv.loc[i,\"G\"]))+ abs(B- int(csv.loc[i,\"B\"]))\n",
    "        if(d<=minimum):\n",
    "            minimum = d\n",
    "            cname = csv.loc[i,\"color_name\"]\n",
    "    return cname"
   ]
  },
  {
   "cell_type": "markdown",
   "id": "3091172f",
   "metadata": {},
   "source": [
    "# function to get x,y coordinates of mouse double click"
   ]
  },
  {
   "cell_type": "code",
   "execution_count": 6,
   "id": "e1b6feb5",
   "metadata": {},
   "outputs": [],
   "source": [
    "def draw_function(event, x,y,flags,param):\n",
    "    if event == cv2.EVENT_LBUTTONDBLCLK:\n",
    "        global b,g,r,xpos,ypos, clicked\n",
    "        clicked = True\n",
    "        xpos = x\n",
    "        ypos = y\n",
    "        b,g,r = img[y,x]\n",
    "        b = int(b)\n",
    "        g = int(g)\n",
    "        r = int(r)\n"
   ]
  },
  {
   "cell_type": "markdown",
   "id": "feba5ed7",
   "metadata": {},
   "source": [
    "# Killing mouse button for opening image"
   ]
  },
  {
   "cell_type": "code",
   "execution_count": 7,
   "id": "217297e6",
   "metadata": {},
   "outputs": [],
   "source": [
    "cv2.namedWindow('color detection by kunal_kushwaha_codeclause_project')\n",
    "cv2.setMouseCallback('color detection by kunal_kushwaha_codeclause_project',draw_function)\n"
   ]
  },
  {
   "cell_type": "code",
   "execution_count": null,
   "id": "a8c713d4",
   "metadata": {},
   "outputs": [],
   "source": [
    "while(1):\n",
    "\n",
    "    cv2.imshow(\"color detection by kunal_kushwaha_codeclause_project\",img)\n",
    "    if (clicked):\n",
    "   \n",
    "        \n",
    "        cv2.rectangle(img,(20,20), (750,60), (b,g,r), -1)\n",
    "\n",
    "        \n",
    "        text = getColorName(r,g,b) + ' R='+ str(r) +  ' G='+ str(g) +  ' B='+ str(b)\n",
    "        \n",
    "       \n",
    "        cv2.putText(img, text,(50,50),2,0.8,(255,255,255),2,cv2.LINE_AA)\n",
    "\n",
    "        \n",
    "        if(r+g+b>=600):\n",
    "            cv2.putText(img, text,(50,50),2,0.8,(0,0,0),2,cv2.LINE_AA)\n",
    "            \n",
    "        clicked=False\n",
    "\n",
    "    if cv2.waitKey(20) & 0xFF ==27:\n",
    "        break\n",
    "    \n",
    "cv2.destroyAllWindows()\n",
    "\n",
    "\n"
   ]
  }
 ],
 "metadata": {
  "kernelspec": {
   "display_name": "Python 3 (ipykernel)",
   "language": "python",
   "name": "python3"
  },
  "language_info": {
   "codemirror_mode": {
    "name": "ipython",
    "version": 3
   },
   "file_extension": ".py",
   "mimetype": "text/x-python",
   "name": "python",
   "nbconvert_exporter": "python",
   "pygments_lexer": "ipython3",
   "version": "3.9.12"
  }
 },
 "nbformat": 4,
 "nbformat_minor": 5
}
